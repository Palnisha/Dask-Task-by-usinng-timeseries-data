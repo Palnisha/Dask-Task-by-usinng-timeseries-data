{
 "cells": [
  {
   "cell_type": "markdown",
   "id": "0d8fa17f-2081-4bb2-9540-0fc332682cae",
   "metadata": {},
   "source": [
    "# DASK TASK"
   ]
  },
  {
   "cell_type": "code",
   "execution_count": 1,
   "id": "d5d33755-ab26-40d7-b595-7363634f635d",
   "metadata": {},
   "outputs": [],
   "source": [
    "import dask.dataframe as dd\n",
    "import pandas as pd\n",
    "import numpy as np\n",
    "import matplotlib.pyplot as plt\n",
    "from dask.distributed import Client\n"
   ]
  },
  {
   "cell_type": "code",
   "execution_count": 2,
   "id": "c2649cd2-9805-4cca-bd46-8fed750417db",
   "metadata": {},
   "outputs": [
    {
     "name": "stdout",
     "output_type": "stream",
     "text": [
      "Requirement already satisfied: dask[distributed] in c:\\python312\\lib\\site-packages (2025.2.0)\n",
      "Requirement already satisfied: click>=8.1 in c:\\python312\\lib\\site-packages (from dask[distributed]) (8.1.8)\n",
      "Requirement already satisfied: cloudpickle>=3.0.0 in c:\\python312\\lib\\site-packages (from dask[distributed]) (3.1.1)\n",
      "Requirement already satisfied: fsspec>=2021.09.0 in c:\\python312\\lib\\site-packages (from dask[distributed]) (2025.2.0)\n",
      "Requirement already satisfied: packaging>=20.0 in c:\\python312\\lib\\site-packages (from dask[distributed]) (24.1)\n",
      "Requirement already satisfied: partd>=1.4.0 in c:\\python312\\lib\\site-packages (from dask[distributed]) (1.4.2)\n",
      "Requirement already satisfied: pyyaml>=5.3.1 in c:\\python312\\lib\\site-packages (from dask[distributed]) (6.0.2)\n",
      "Requirement already satisfied: toolz>=0.10.0 in c:\\python312\\lib\\site-packages (from dask[distributed]) (1.0.0)\n",
      "Requirement already satisfied: distributed==2025.2.0 in c:\\python312\\lib\\site-packages (from dask[distributed]) (2025.2.0)\n",
      "Requirement already satisfied: jinja2>=2.10.3 in c:\\python312\\lib\\site-packages (from distributed==2025.2.0->dask[distributed]) (3.1.4)\n",
      "Requirement already satisfied: locket>=1.0.0 in c:\\python312\\lib\\site-packages (from distributed==2025.2.0->dask[distributed]) (1.0.0)\n",
      "Requirement already satisfied: msgpack>=1.0.2 in c:\\python312\\lib\\site-packages (from distributed==2025.2.0->dask[distributed]) (1.1.0)\n",
      "Requirement already satisfied: psutil>=5.8.0 in c:\\python312\\lib\\site-packages (from distributed==2025.2.0->dask[distributed]) (6.0.0)\n",
      "Requirement already satisfied: sortedcontainers>=2.0.5 in c:\\python312\\lib\\site-packages (from distributed==2025.2.0->dask[distributed]) (2.4.0)\n",
      "Requirement already satisfied: tblib>=1.6.0 in c:\\python312\\lib\\site-packages (from distributed==2025.2.0->dask[distributed]) (3.0.0)\n",
      "Requirement already satisfied: tornado>=6.2.0 in c:\\python312\\lib\\site-packages (from distributed==2025.2.0->dask[distributed]) (6.4.1)\n",
      "Requirement already satisfied: urllib3>=1.26.5 in c:\\python312\\lib\\site-packages (from distributed==2025.2.0->dask[distributed]) (2.2.3)\n",
      "Requirement already satisfied: zict>=3.0.0 in c:\\python312\\lib\\site-packages (from distributed==2025.2.0->dask[distributed]) (3.0.0)\n",
      "Requirement already satisfied: colorama in c:\\python312\\lib\\site-packages (from click>=8.1->dask[distributed]) (0.4.6)\n",
      "Requirement already satisfied: MarkupSafe>=2.0 in c:\\python312\\lib\\site-packages (from jinja2>=2.10.3->distributed==2025.2.0->dask[distributed]) (2.1.5)\n"
     ]
    }
   ],
   "source": [
    "!pip install \"dask[distributed]\" --upgrade\n"
   ]
  },
  {
   "cell_type": "code",
   "execution_count": 3,
   "id": "39d369ff-f7cf-415a-85cd-f4f070a73ec8",
   "metadata": {},
   "outputs": [
    {
     "data": {
      "text/html": [
       "<div>\n",
       "<style scoped>\n",
       "    .dataframe tbody tr th:only-of-type {\n",
       "        vertical-align: middle;\n",
       "    }\n",
       "\n",
       "    .dataframe tbody tr th {\n",
       "        vertical-align: top;\n",
       "    }\n",
       "\n",
       "    .dataframe thead th {\n",
       "        text-align: right;\n",
       "    }\n",
       "</style>\n",
       "<table border=\"1\" class=\"dataframe\">\n",
       "  <thead>\n",
       "    <tr style=\"text-align: right;\">\n",
       "      <th></th>\n",
       "      <th>timestamp</th>\n",
       "      <th>value</th>\n",
       "      <th>category</th>\n",
       "    </tr>\n",
       "  </thead>\n",
       "  <tbody>\n",
       "    <tr>\n",
       "      <th>0</th>\n",
       "      <td>2025-01-01 00:00:00</td>\n",
       "      <td>-0.203440</td>\n",
       "      <td>B</td>\n",
       "    </tr>\n",
       "    <tr>\n",
       "      <th>1</th>\n",
       "      <td>2025-01-01 00:01:00</td>\n",
       "      <td>1.499693</td>\n",
       "      <td>A</td>\n",
       "    </tr>\n",
       "    <tr>\n",
       "      <th>2</th>\n",
       "      <td>2025-01-01 00:02:00</td>\n",
       "      <td>0.902157</td>\n",
       "      <td>A</td>\n",
       "    </tr>\n",
       "    <tr>\n",
       "      <th>3</th>\n",
       "      <td>2025-01-01 00:03:00</td>\n",
       "      <td>-2.815292</td>\n",
       "      <td>B</td>\n",
       "    </tr>\n",
       "    <tr>\n",
       "      <th>4</th>\n",
       "      <td>2025-01-01 00:04:00</td>\n",
       "      <td>-0.555987</td>\n",
       "      <td>B</td>\n",
       "    </tr>\n",
       "    <tr>\n",
       "      <th>...</th>\n",
       "      <td>...</td>\n",
       "      <td>...</td>\n",
       "      <td>...</td>\n",
       "    </tr>\n",
       "    <tr>\n",
       "      <th>999995</th>\n",
       "      <td>2026-11-26 10:35:00</td>\n",
       "      <td>0.259324</td>\n",
       "      <td>C</td>\n",
       "    </tr>\n",
       "    <tr>\n",
       "      <th>999996</th>\n",
       "      <td>2026-11-26 10:36:00</td>\n",
       "      <td>-0.410647</td>\n",
       "      <td>B</td>\n",
       "    </tr>\n",
       "    <tr>\n",
       "      <th>999997</th>\n",
       "      <td>2026-11-26 10:37:00</td>\n",
       "      <td>0.805967</td>\n",
       "      <td>C</td>\n",
       "    </tr>\n",
       "    <tr>\n",
       "      <th>999998</th>\n",
       "      <td>2026-11-26 10:38:00</td>\n",
       "      <td>0.040425</td>\n",
       "      <td>A</td>\n",
       "    </tr>\n",
       "    <tr>\n",
       "      <th>999999</th>\n",
       "      <td>2026-11-26 10:39:00</td>\n",
       "      <td>-1.629503</td>\n",
       "      <td>B</td>\n",
       "    </tr>\n",
       "  </tbody>\n",
       "</table>\n",
       "<p>1000000 rows × 3 columns</p>\n",
       "</div>"
      ],
      "text/plain": [
       "                 timestamp     value category\n",
       "0      2025-01-01 00:00:00 -0.203440        B\n",
       "1      2025-01-01 00:01:00  1.499693        A\n",
       "2      2025-01-01 00:02:00  0.902157        A\n",
       "3      2025-01-01 00:03:00 -2.815292        B\n",
       "4      2025-01-01 00:04:00 -0.555987        B\n",
       "...                    ...       ...      ...\n",
       "999995 2026-11-26 10:35:00  0.259324        C\n",
       "999996 2026-11-26 10:36:00 -0.410647        B\n",
       "999997 2026-11-26 10:37:00  0.805967        C\n",
       "999998 2026-11-26 10:38:00  0.040425        A\n",
       "999999 2026-11-26 10:39:00 -1.629503        B\n",
       "\n",
       "[1000000 rows x 3 columns]"
      ]
     },
     "execution_count": 3,
     "metadata": {},
     "output_type": "execute_result"
    }
   ],
   "source": [
    "# Generate a sample time series dataset\n",
    "n_rows = 1000000  # One million rows\n",
    "date_range = pd.date_range('2025-01-01', periods=n_rows, freq='min')  # 1-minute intervals\n",
    "\n",
    "# Create random data\n",
    "data = {\n",
    "    'timestamp': date_range,\n",
    "    'value': np.random.randn(n_rows),  # Random values\n",
    "    'category': np.random.choice(['A', 'B', 'C'], n_rows)  # Random category\n",
    "}\n",
    "\n",
    "# Convert to a pandas DataFrame first, then to a Dask DataFrame\n",
    "df = pd.DataFrame(data)\n",
    "dask_df = dd.from_pandas(df, npartitions=4)  # Dask DataFrame with 4 partitions\n",
    "dask_df.compute()"
   ]
  },
  {
   "cell_type": "code",
   "execution_count": 4,
   "id": "0963fa8e-0b05-4b3e-870d-18437dc12092",
   "metadata": {},
   "outputs": [
    {
     "data": {
      "text/plain": [
       "Dask Series Structure:\n",
       "npartitions=4\n",
       "0         datetime64[ns]\n",
       "250000               ...\n",
       "500000               ...\n",
       "750000               ...\n",
       "999999               ...\n",
       "Dask Name: getitem, 5 expressions\n",
       "Expr=Assign(frame=df)['timestamp']"
      ]
     },
     "execution_count": 4,
     "metadata": {},
     "output_type": "execute_result"
    }
   ],
   "source": [
    "# Ensure 'timestamp' column is in datetime format\n",
    "dask_df['timestamp'] = dd.to_datetime(dask_df['timestamp'])\n",
    "dask_df['timestamp']"
   ]
  },
  {
   "cell_type": "code",
   "execution_count": 5,
   "id": "cf697654-c3b0-4826-ae4a-95fea225192f",
   "metadata": {},
   "outputs": [],
   "source": [
    "# Drop rows with missing values\n",
    "dask_df = dask_df.dropna()\n"
   ]
  },
  {
   "cell_type": "code",
   "execution_count": 6,
   "id": "9dbe3250-4aab-4935-b96f-7d93a251c948",
   "metadata": {},
   "outputs": [
    {
     "name": "stdout",
     "output_type": "stream",
     "text": [
      "date        category\n",
      "2025-01-01  A           0.003461\n",
      "            B          -0.000798\n",
      "            C           0.030763\n",
      "2025-01-02  A          -0.050079\n",
      "            B          -0.063933\n",
      "Name: value, dtype: float64\n"
     ]
    }
   ],
   "source": [
    "# Resample data by day and calculate the mean for each category\n",
    "dask_df['date'] = dask_df['timestamp'].dt.date  # Create a new 'date' column\n",
    "daily_avg = dask_df.groupby(['date', 'category'])['value'].mean().compute()  # Compute the result\n",
    "\n",
    "print(daily_avg.head())\n"
   ]
  },
  {
   "cell_type": "code",
   "execution_count": 7,
   "id": "da44153a-64c8-466b-8f67-fa539d995e65",
   "metadata": {},
   "outputs": [
    {
     "name": "stdout",
     "output_type": "stream",
     "text": [
      "                 timestamp     value category        date\n",
      "0      2025-01-01 00:00:00 -0.203440        B  2025-01-01\n",
      "1      2025-01-01 00:01:00  1.499693        A  2025-01-01\n",
      "2      2025-01-01 00:02:00  0.902157        A  2025-01-01\n",
      "3      2025-01-01 00:03:00 -2.815292        B  2025-01-01\n",
      "4      2025-01-01 00:04:00 -0.555987        B  2025-01-01\n",
      "...                    ...       ...      ...         ...\n",
      "570235 2026-01-31 23:55:00  0.108944        B  2026-01-31\n",
      "570236 2026-01-31 23:56:00  0.805751        A  2026-01-31\n",
      "570237 2026-01-31 23:57:00 -0.890144        B  2026-01-31\n",
      "570238 2026-01-31 23:58:00  0.327953        A  2026-01-31\n",
      "570239 2026-01-31 23:59:00 -2.319446        A  2026-01-31\n",
      "\n",
      "[89280 rows x 4 columns]\n"
     ]
    }
   ],
   "source": [
    "# Filter data for January 2025\n",
    "filtered_data = dask_df[dask_df['timestamp'].dt.month == 1]\n",
    "\n",
    "# Compute and display the first few rows\n",
    "print(filtered_data.compute())\n"
   ]
  },
  {
   "cell_type": "code",
   "execution_count": 11,
   "id": "e9404062-abad-4060-a30e-24f9b967bba5",
   "metadata": {},
   "outputs": [
    {
     "name": "stderr",
     "output_type": "stream",
     "text": [
      "C:\\Python312\\Lib\\site-packages\\distributed\\node.py:187: UserWarning: Port 8787 is already in use.\n",
      "Perhaps you already have a cluster running?\n",
      "Hosting the HTTP server on port 59765 instead\n",
      "  warnings.warn(\n"
     ]
    }
   ],
   "source": [
    "from dask.distributed import Client\n",
    "client = Client()  # Initialize Dask client (optional, but recommended for large datasets)\n"
   ]
  },
  {
   "cell_type": "code",
   "execution_count": null,
   "id": "e3c004ec-1f6d-4898-85be-e9813bca11d1",
   "metadata": {},
   "outputs": [],
   "source": []
  },
  {
   "cell_type": "code",
   "execution_count": 15,
   "id": "0041e1f2-93f7-442e-8296-e4407601872f",
   "metadata": {},
   "outputs": [
    {
     "name": "stderr",
     "output_type": "stream",
     "text": [
      "C:\\Python312\\Lib\\site-packages\\distributed\\client.py:3370: UserWarning: Sending large graph of size 23.85 MiB.\n",
      "This may cause some slowdown.\n",
      "Consider loading the data with Dask directly\n",
      " or using futures or delayed objects to embed the data into the graph without repetition.\n",
      "See also https://docs.dask.org/en/stable/best-practices.html#load-data-with-dask for more information.\n",
      "  warnings.warn(\n",
      "C:\\Python312\\Lib\\site-packages\\distributed\\client.py:3370: UserWarning: Sending large graph of size 58.78 MiB.\n",
      "This may cause some slowdown.\n",
      "Consider loading the data with Dask directly\n",
      " or using futures or delayed objects to embed the data into the graph without repetition.\n",
      "See also https://docs.dask.org/en/stable/best-practices.html#load-data-with-dask for more information.\n",
      "  warnings.warn(\n"
     ]
    },
    {
     "name": "stdout",
     "output_type": "stream",
     "text": [
      "                    0                     1  2           3\n",
      "0 2025-01-01 00:00:00  -0.20344026930765396  B  2025-01-01\n",
      "1 2025-01-01 00:01:00    1.4996928568995918  A  2025-01-01\n",
      "2 2025-01-01 00:02:00    0.9021572426285861  A  2025-01-01\n",
      "3 2025-01-01 00:03:00    -2.815291626268855  B  2025-01-01\n",
      "4 2025-01-01 00:04:00   -0.5559869187924082  B  2025-01-01\n"
     ]
    }
   ],
   "source": [
    "import dask.dataframe as dd\n",
    "from dask.diagnostics import ProgressBar\n",
    "daily_avg_df = pd.DataFrame(dask_df)\n",
    "\n",
    "# Convert pandas DataFrame to Dask DataFrame\n",
    "daily_avg_dd = dd.from_pandas(daily_avg_df, npartitions=4)\n",
    "\n",
    "# Now compute with Dask\n",
    "with ProgressBar():\n",
    "    result = daily_avg_dd.compute()  \n",
    "print(result.head())\n"
   ]
  },
  {
   "cell_type": "code",
   "execution_count": 16,
   "id": "4df933f8-95b9-4407-a01f-b85ba1ca9a30",
   "metadata": {},
   "outputs": [
    {
     "name": "stdout",
     "output_type": "stream",
     "text": [
      "Requirement already satisfied: pyarrow in c:\\python312\\lib\\site-packages (19.0.0)\n",
      "Requirement already satisfied: dask[complete] in c:\\python312\\lib\\site-packages (2025.2.0)\n",
      "Requirement already satisfied: click>=8.1 in c:\\python312\\lib\\site-packages (from dask[complete]) (8.1.8)\n",
      "Requirement already satisfied: cloudpickle>=3.0.0 in c:\\python312\\lib\\site-packages (from dask[complete]) (3.1.1)\n",
      "Requirement already satisfied: fsspec>=2021.09.0 in c:\\python312\\lib\\site-packages (from dask[complete]) (2025.2.0)\n",
      "Requirement already satisfied: packaging>=20.0 in c:\\python312\\lib\\site-packages (from dask[complete]) (24.1)\n",
      "Requirement already satisfied: partd>=1.4.0 in c:\\python312\\lib\\site-packages (from dask[complete]) (1.4.2)\n",
      "Requirement already satisfied: pyyaml>=5.3.1 in c:\\python312\\lib\\site-packages (from dask[complete]) (6.0.2)\n",
      "Requirement already satisfied: toolz>=0.10.0 in c:\\python312\\lib\\site-packages (from dask[complete]) (1.0.0)\n",
      "Requirement already satisfied: lz4>=4.3.2 in c:\\python312\\lib\\site-packages (from dask[complete]) (4.4.3)\n",
      "Requirement already satisfied: colorama in c:\\python312\\lib\\site-packages (from click>=8.1->dask[complete]) (0.4.6)\n",
      "Requirement already satisfied: locket in c:\\python312\\lib\\site-packages (from partd>=1.4.0->dask[complete]) (1.0.0)\n",
      "Requirement already satisfied: numpy>=1.24 in c:\\python312\\lib\\site-packages (from dask[complete]) (2.1.2)\n",
      "Requirement already satisfied: pandas>=2.0 in c:\\python312\\lib\\site-packages (from dask[complete]) (2.2.3)\n",
      "Requirement already satisfied: distributed==2025.2.0 in c:\\python312\\lib\\site-packages (from dask[complete]) (2025.2.0)\n",
      "Requirement already satisfied: bokeh>=3.1.0 in c:\\python312\\lib\\site-packages (from dask[complete]) (3.6.3)\n",
      "Requirement already satisfied: jinja2>=2.10.3 in c:\\python312\\lib\\site-packages (from dask[complete]) (3.1.4)\n",
      "Requirement already satisfied: msgpack>=1.0.2 in c:\\python312\\lib\\site-packages (from distributed==2025.2.0->dask[complete]) (1.1.0)\n",
      "Requirement already satisfied: psutil>=5.8.0 in c:\\python312\\lib\\site-packages (from distributed==2025.2.0->dask[complete]) (6.0.0)\n",
      "Requirement already satisfied: sortedcontainers>=2.0.5 in c:\\python312\\lib\\site-packages (from distributed==2025.2.0->dask[complete]) (2.4.0)\n",
      "Requirement already satisfied: tblib>=1.6.0 in c:\\python312\\lib\\site-packages (from distributed==2025.2.0->dask[complete]) (3.0.0)\n",
      "Requirement already satisfied: tornado>=6.2.0 in c:\\python312\\lib\\site-packages (from distributed==2025.2.0->dask[complete]) (6.4.1)\n",
      "Requirement already satisfied: urllib3>=1.26.5 in c:\\python312\\lib\\site-packages (from distributed==2025.2.0->dask[complete]) (2.2.3)\n",
      "Requirement already satisfied: zict>=3.0.0 in c:\\python312\\lib\\site-packages (from distributed==2025.2.0->dask[complete]) (3.0.0)\n",
      "Requirement already satisfied: contourpy>=1.2 in c:\\python312\\lib\\site-packages (from bokeh>=3.1.0->dask[complete]) (1.3.0)\n",
      "Requirement already satisfied: pillow>=7.1.0 in c:\\python312\\lib\\site-packages (from bokeh>=3.1.0->dask[complete]) (10.4.0)\n",
      "Requirement already satisfied: xyzservices>=2021.09.1 in c:\\python312\\lib\\site-packages (from bokeh>=3.1.0->dask[complete]) (2025.1.0)\n",
      "Requirement already satisfied: MarkupSafe>=2.0 in c:\\python312\\lib\\site-packages (from jinja2>=2.10.3->dask[complete]) (2.1.5)\n",
      "Requirement already satisfied: python-dateutil>=2.8.2 in c:\\python312\\lib\\site-packages (from pandas>=2.0->dask[complete]) (2.9.0.post0)\n",
      "Requirement already satisfied: pytz>=2020.1 in c:\\python312\\lib\\site-packages (from pandas>=2.0->dask[complete]) (2024.2)\n",
      "Requirement already satisfied: tzdata>=2022.7 in c:\\python312\\lib\\site-packages (from pandas>=2.0->dask[complete]) (2024.2)\n",
      "Requirement already satisfied: six>=1.5 in c:\\python312\\lib\\site-packages (from python-dateutil>=2.8.2->pandas>=2.0->dask[complete]) (1.16.0)\n"
     ]
    }
   ],
   "source": [
    "!pip install dask[complete] pyarrow\n"
   ]
  },
  {
   "cell_type": "code",
   "execution_count": 34,
   "id": "5502b20c-c129-4b83-91b8-005a1da8eeb9",
   "metadata": {
    "scrolled": true
   },
   "outputs": [
    {
     "data": {
      "text/html": [
       "<div>\n",
       "<style scoped>\n",
       "    .dataframe tbody tr th:only-of-type {\n",
       "        vertical-align: middle;\n",
       "    }\n",
       "\n",
       "    .dataframe tbody tr th {\n",
       "        vertical-align: top;\n",
       "    }\n",
       "\n",
       "    .dataframe thead th {\n",
       "        text-align: right;\n",
       "    }\n",
       "</style>\n",
       "<table border=\"1\" class=\"dataframe\">\n",
       "  <thead>\n",
       "    <tr style=\"text-align: right;\">\n",
       "      <th></th>\n",
       "      <th>timestamp</th>\n",
       "      <th>value</th>\n",
       "      <th>category</th>\n",
       "      <th>date</th>\n",
       "    </tr>\n",
       "  </thead>\n",
       "  <tbody>\n",
       "    <tr>\n",
       "      <th>0</th>\n",
       "      <td>2025-01-01 00:00:00</td>\n",
       "      <td>0.694421</td>\n",
       "      <td>B</td>\n",
       "      <td>2025-01-01</td>\n",
       "    </tr>\n",
       "    <tr>\n",
       "      <th>1</th>\n",
       "      <td>2025-01-01 00:01:00</td>\n",
       "      <td>2.392051</td>\n",
       "      <td>A</td>\n",
       "      <td>2025-01-01</td>\n",
       "    </tr>\n",
       "    <tr>\n",
       "      <th>2</th>\n",
       "      <td>2025-01-01 00:02:00</td>\n",
       "      <td>0.903472</td>\n",
       "      <td>C</td>\n",
       "      <td>2025-01-01</td>\n",
       "    </tr>\n",
       "    <tr>\n",
       "      <th>3</th>\n",
       "      <td>2025-01-01 00:03:00</td>\n",
       "      <td>1.219047</td>\n",
       "      <td>A</td>\n",
       "      <td>2025-01-01</td>\n",
       "    </tr>\n",
       "    <tr>\n",
       "      <th>4</th>\n",
       "      <td>2025-01-01 00:04:00</td>\n",
       "      <td>0.139122</td>\n",
       "      <td>A</td>\n",
       "      <td>2025-01-01</td>\n",
       "    </tr>\n",
       "    <tr>\n",
       "      <th>...</th>\n",
       "      <td>...</td>\n",
       "      <td>...</td>\n",
       "      <td>...</td>\n",
       "      <td>...</td>\n",
       "    </tr>\n",
       "    <tr>\n",
       "      <th>999995</th>\n",
       "      <td>2026-11-26 10:35:00</td>\n",
       "      <td>1.230665</td>\n",
       "      <td>B</td>\n",
       "      <td>2026-11-26</td>\n",
       "    </tr>\n",
       "    <tr>\n",
       "      <th>999996</th>\n",
       "      <td>2026-11-26 10:36:00</td>\n",
       "      <td>3.421170</td>\n",
       "      <td>C</td>\n",
       "      <td>2026-11-26</td>\n",
       "    </tr>\n",
       "    <tr>\n",
       "      <th>999997</th>\n",
       "      <td>2026-11-26 10:37:00</td>\n",
       "      <td>-1.418192</td>\n",
       "      <td>A</td>\n",
       "      <td>2026-11-26</td>\n",
       "    </tr>\n",
       "    <tr>\n",
       "      <th>999998</th>\n",
       "      <td>2026-11-26 10:38:00</td>\n",
       "      <td>-0.121984</td>\n",
       "      <td>B</td>\n",
       "      <td>2026-11-26</td>\n",
       "    </tr>\n",
       "    <tr>\n",
       "      <th>999999</th>\n",
       "      <td>2026-11-26 10:39:00</td>\n",
       "      <td>1.360836</td>\n",
       "      <td>A</td>\n",
       "      <td>2026-11-26</td>\n",
       "    </tr>\n",
       "  </tbody>\n",
       "</table>\n",
       "<p>1000000 rows × 4 columns</p>\n",
       "</div>"
      ],
      "text/plain": [
       "                 timestamp     value category        date\n",
       "0      2025-01-01 00:00:00  0.694421        B  2025-01-01\n",
       "1      2025-01-01 00:01:00  2.392051        A  2025-01-01\n",
       "2      2025-01-01 00:02:00  0.903472        C  2025-01-01\n",
       "3      2025-01-01 00:03:00  1.219047        A  2025-01-01\n",
       "4      2025-01-01 00:04:00  0.139122        A  2025-01-01\n",
       "...                    ...       ...      ...         ...\n",
       "999995 2026-11-26 10:35:00  1.230665        B  2026-11-26\n",
       "999996 2026-11-26 10:36:00  3.421170        C  2026-11-26\n",
       "999997 2026-11-26 10:37:00 -1.418192        A  2026-11-26\n",
       "999998 2026-11-26 10:38:00 -0.121984        B  2026-11-26\n",
       "999999 2026-11-26 10:39:00  1.360836        A  2026-11-26\n",
       "\n",
       "[1000000 rows x 4 columns]"
      ]
     },
     "execution_count": 34,
     "metadata": {},
     "output_type": "execute_result"
    }
   ],
   "source": [
    "\n",
    "import dask.dataframe as dd\n",
    "\n",
    "# Load data directly with Dask\n",
    "dask_df = dd.read_parquet('timeseries_data.parquet')\n",
    "dask_df.compute()\n",
    "\n",
    "# Convert the 'date' column to string\n"
   ]
  },
  {
   "cell_type": "code",
   "execution_count": 32,
   "id": "fcb76384-5e3f-4245-a748-e4f9fd756331",
   "metadata": {},
   "outputs": [],
   "source": [
    "#dask_df = dd.read_csv('timeseries_data.csv')\n",
    "##dask_df.compute()"
   ]
  },
  {
   "cell_type": "code",
   "execution_count": 35,
   "id": "21012516-193d-46cb-9eff-003640230c29",
   "metadata": {},
   "outputs": [
    {
     "name": "stdout",
     "output_type": "stream",
     "text": [
      "(np.float64(201.89431805648658), np.float64(-390.7779819938074), np.float64(-625.8609558566286), np.float64(204.10886248860993))\n"
     ]
    }
   ],
   "source": [
    "from dask import delayed, compute\n",
    "import dask.dataframe as dd\n",
    "\n",
    "# Example function to process data\n",
    "def process_data(data_chunk):\n",
    "    # Replace this with any operation you want to apply\n",
    "        return data_chunk['value'].sum()  # Assuming 'value' is a column\n",
    "\n",
    "# Assuming you already have a Dask DataFrame, e.g., 'dask_df'\n",
    "# dask_df = dd.from_pandas(your_pandas_dataframe, npartitions=10)\n",
    "\n",
    "# Convert Dask DataFrame into delayed chunks\n",
    "delayed_chunks = dask_df.to_delayed()\n",
    "\n",
    "# Apply `dask.delayed` to each chunk\n",
    "delayed_results = [delayed(process_data)(chunk) for chunk in delayed_chunks]\n",
    "\n",
    "# Compute the final results\n",
    "final_results = compute(*delayed_results)\n",
    "\n",
    "# Output the results\n",
    "print(final_results)\n"
   ]
  },
  {
   "cell_type": "code",
   "execution_count": 36,
   "id": "6da11f63-f81f-4e73-a951-624143c96c70",
   "metadata": {},
   "outputs": [
    {
     "data": {
      "text/plain": [
       "Index(['timestamp', 'value', 'category', 'date'], dtype='object')"
      ]
     },
     "execution_count": 36,
     "metadata": {},
     "output_type": "execute_result"
    }
   ],
   "source": [
    "dask_df.columns"
   ]
  },
  {
   "cell_type": "code",
   "execution_count": 22,
   "id": "e69ec04c-b1b7-4180-ad36-a6567ed731e9",
   "metadata": {},
   "outputs": [
    {
     "name": "stdout",
     "output_type": "stream",
     "text": [
      "Requirement already satisfied: dask in c:\\python312\\lib\\site-packages (2025.2.0)\n",
      "Requirement already satisfied: click>=8.1 in c:\\python312\\lib\\site-packages (from dask) (8.1.8)\n",
      "Requirement already satisfied: cloudpickle>=3.0.0 in c:\\python312\\lib\\site-packages (from dask) (3.1.1)\n",
      "Requirement already satisfied: fsspec>=2021.09.0 in c:\\python312\\lib\\site-packages (from dask) (2025.2.0)\n",
      "Requirement already satisfied: packaging>=20.0 in c:\\python312\\lib\\site-packages (from dask) (24.1)\n",
      "Requirement already satisfied: partd>=1.4.0 in c:\\python312\\lib\\site-packages (from dask) (1.4.2)\n",
      "Requirement already satisfied: pyyaml>=5.3.1 in c:\\python312\\lib\\site-packages (from dask) (6.0.2)\n",
      "Requirement already satisfied: toolz>=0.10.0 in c:\\python312\\lib\\site-packages (from dask) (1.0.0)\n",
      "Requirement already satisfied: colorama in c:\\python312\\lib\\site-packages (from click>=8.1->dask) (0.4.6)\n",
      "Requirement already satisfied: locket in c:\\python312\\lib\\site-packages (from partd>=1.4.0->dask) (1.0.0)\n"
     ]
    }
   ],
   "source": [
    "!pip install dask\n"
   ]
  },
  {
   "cell_type": "code",
   "execution_count": 37,
   "id": "0af7861d-6818-4c3c-8aa3-d927cab8bc24",
   "metadata": {},
   "outputs": [
    {
     "name": "stdout",
     "output_type": "stream",
     "text": [
      "(4950, 14950, 24950, 34950, 44950, 54950, 64950, 74950, 84950, 94950)\n"
     ]
    }
   ],
   "source": [
    "\n",
    "from dask import delayed, compute \n",
    "\n",
    "# Example function to process data\n",
    "def process_data(data_chunk):\n",
    "    # Replace this with any operation you want to apply\n",
    "    return sum(data_chunk)\n",
    "\n",
    "# Example data (could be a large list)\n",
    "data = list(range(1000))  # You could replace this with your actual data\n",
    "\n",
    "# Split data into chunks (in this case, we split into 10 chunks)\n",
    "chunk_size = 100\n",
    "data_chunks = [data[i:i + chunk_size] for i in range(0, len(data), chunk_size)]\n",
    "\n",
    "# Apply `dask.delayed` to each chunk\n",
    "delayed_results = [delayed(process_data)(chunk) for chunk in data_chunks]\n",
    "\n",
    "# Compute the final results\n",
    "final_results = compute(*delayed_results)\n",
    "\n",
    "# Output the results\n",
    "print(final_results)\n"
   ]
  },
  {
   "cell_type": "code",
   "execution_count": 39,
   "id": "49d9421c-18c7-4185-8fa8-168cea4c613f",
   "metadata": {},
   "outputs": [
    {
     "name": "stdout",
     "output_type": "stream",
     "text": [
      "Total Sum of 'value': 499500\n"
     ]
    }
   ],
   "source": [
    "total_sum = sum(final_results)\n",
    "print(\"Total Sum of 'value':\", total_sum)\n"
   ]
  },
  {
   "cell_type": "code",
   "execution_count": 40,
   "id": "6536fbfe-93c7-44d1-b11b-f2dcdbc440ed",
   "metadata": {},
   "outputs": [
    {
     "name": "stdout",
     "output_type": "stream",
     "text": [
      "   Partition    Sum\n",
      "0          0   4950\n",
      "1          1  14950\n",
      "2          2  24950\n",
      "3          3  34950\n",
      "4          4  44950\n",
      "5          5  54950\n",
      "6          6  64950\n",
      "7          7  74950\n",
      "8          8  84950\n",
      "9          9  94950\n"
     ]
    }
   ],
   "source": [
    "import pandas as pd\n",
    "\n",
    "results_df = pd.DataFrame({'Partition': range(len(final_results)), 'Sum': final_results})\n",
    "print(results_df)\n"
   ]
  },
  {
   "cell_type": "code",
   "execution_count": null,
   "id": "718c9468-58d2-41fd-8825-8f29f1092f28",
   "metadata": {},
   "outputs": [],
   "source": []
  },
  {
   "cell_type": "code",
   "execution_count": 41,
   "id": "acae51b0-48b8-45ce-9962-19c44f579c85",
   "metadata": {},
   "outputs": [
    {
     "data": {
      "image/png": "[encoded data removed]",
      "text/plain": [
       "<Figure size 640x480 with 1 Axes>"
      ]
     },
     "metadata": {},
     "output_type": "display_data"
    }
   ],
   "source": [
    "import matplotlib.pyplot as plt\n",
    "\n",
    "category_a = daily_avg[daily_avg.index.get_level_values('category') == 'A']\n",
    "category_a.plot(kind='line', title=\"Daily Average Value for Category A\")\n",
    "plt.xlabel('Date')\n",
    "plt.ylabel('Average Value')\n",
    "plt.show()\n"
   ]
  },
  {
   "cell_type": "code",
   "execution_count": 42,
   "id": "0f2fb314-aeb7-4b1d-bfad-2373a7c0f3f7",
   "metadata": {},
   "outputs": [
    {
     "name": "stdout",
     "output_type": "stream",
     "text": [
      "            timestamp     value category        date\n",
      "0 2025-01-01 00:00:00  0.694421        B  2025-01-01\n",
      "1 2025-01-01 00:01:00  2.392051        A  2025-01-01\n",
      "2 2025-01-01 00:02:00  0.903472        C  2025-01-01\n",
      "3 2025-01-01 00:03:00  1.219047        A  2025-01-01\n",
      "4 2025-01-01 00:04:00  0.139122        A  2025-01-01\n"
     ]
    }
   ],
   "source": [
    "result = dask_df.compute()  # This converts the Dask DataFrame to a Pandas DataFrame\n",
    "print(result.head())  # Check the output\n"
   ]
  },
  {
   "cell_type": "code",
   "execution_count": 43,
   "id": "30f5f727-ac6c-403f-9900-e59828a187ca",
   "metadata": {},
   "outputs": [],
   "source": [
    "from dask.distributed import Client\n",
    "\n",
    "try:\n",
    "    client.close()  # Close the client if already started\n",
    "except NameError:\n",
    "    print(\"No active Dask client found.\")\n"
   ]
  },
  {
   "cell_type": "code",
   "execution_count": null,
   "id": "84bebbda-d73b-4f19-87e8-38f71f31bf5c",
   "metadata": {},
   "outputs": [],
   "source": []
  }
 ],
 "metadata": {
  "kernelspec": {
   "display_name": "Python 3 (ipykernel)",
   "language": "python",
   "name": "python3"
  },
  "language_info": {
   "codemirror_mode": {
    "name": "ipython",
    "version": 3
   },
   "file_extension": ".py",
   "mimetype": "text/x-python",
   "name": "python",
   "nbconvert_exporter": "python",
   "pygments_lexer": "ipython3",
   "version": "3.12.7"
  }
 },
 "nbformat": 4,
 "nbformat_minor": 5
}
